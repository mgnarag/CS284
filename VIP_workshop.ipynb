{
  "nbformat": 4,
  "nbformat_minor": 0,
  "metadata": {
    "colab": {
      "provenance": [],
      "authorship_tag": "ABX9TyMHE2RzEneexKNuEMZzc7RK",
      "include_colab_link": true
    },
    "kernelspec": {
      "name": "python3",
      "display_name": "Python 3"
    },
    "language_info": {
      "name": "python"
    }
  },
  "cells": [
    {
      "cell_type": "markdown",
      "metadata": {
        "id": "view-in-github",
        "colab_type": "text"
      },
      "source": [
        "<a href=\"https://colab.research.google.com/github/mgnarag/machine-learning/blob/main/VIP_workshop.ipynb\" target=\"_parent\"><img src=\"https://colab.research.google.com/assets/colab-badge.svg\" alt=\"Open In Colab\"/></a>"
      ]
    },
    {
      "cell_type": "markdown",
      "source": [
        "# **Building your Deep Learning model via Colab**\n",
        "by Mark Jeremy Narag"
      ],
      "metadata": {
        "id": "BeK2Hojo6ZqZ"
      }
    },
    {
      "cell_type": "markdown",
      "source": [
        "HELLO! HELLO! HELLO!\n",
        "\n",
        "This is **JEM**, your gorgeous 💋 perfect 💯 flawless 💃 virtual assistant in todays bidyow\n",
        "\n",
        "So ayun guys welcome to me! GO GO GO!\n",
        "Let's get this going skrtttt!\n",
        "\n",
        "So ang gagawin natin in today's workshop ay magbubuild tayo ng DEEP LEARNING MOWDELLLLL! Why do we need to know how to build a deep learning model? Because you don't have the face of a model so might as well learn how to create a deep learning mowdel. KIMIIIII!\n",
        "\n",
        "Anyway basahin niyo nalang mga chika ko sa baba. If di niyo gets, google mo nalang ghorl 💅💅💅"
      ],
      "metadata": {
        "id": "hzH90C1H5Fwm"
      }
    },
    {
      "cell_type": "markdown",
      "source": [
        "# **STEP 0: IMPORT PACKAGES**"
      ],
      "metadata": {
        "id": "sI7HdMiU44G6"
      }
    },
    {
      "cell_type": "code",
      "execution_count": null,
      "metadata": {
        "id": "X4I_UxEzUlKq"
      },
      "outputs": [],
      "source": [
        "import tensorflow as tf\n",
        "import numpy as np\n",
        "import matplotlib.pyplot as plt"
      ]
    },
    {
      "cell_type": "markdown",
      "source": [
        "# **STEP 1: IMPORT FASHION MNIST**\n",
        "\n",
        "Deep learning requires thousands of data for it to work? So how are we gonna get thousands of images? Do we have to capture thousands of photos inside the lab? Nauuuuur! We can just use the FASHION MNIST dataset (https://github.com/zalandoresearch/fashion-mnist)!!!\n",
        "\n",
        "\n",
        "\n",
        "*OMG FASHION! Like Chanel? Dior? Gucci? Who's the designer? Ghorl calm down!*\n",
        "\n",
        "\n",
        "\n",
        "\n",
        "\"FASHION\" MNIST dataset contains 70,000 images - 60,000 for training and 10,000 for testing. All are in low resolution (28 by 28 pixels), grayscale images divided into 10 categories. *Categoriesss??? Like winter couture? avante-garde? street wear? Ghorl...no...shut up... parang ganito sis:*\n",
        "\n",
        "<table>\n",
        "  <tr><td>\n",
        "    <img src=\"https://tensorflow.org/images/fashion-mnist-sprite.png\"\n",
        "         alt=\"Fashion MNIST sprite\"  width=\"600\">\n",
        "  </td></tr>\n",
        "  <tr><td align=\"center\">\n",
        "    <b>Figure 1.</b> <a href=\"https://github.com/zalandoresearch/fashion-mnist\">Fashion-MNIST samples</a> (by Zalando, MIT License).<br/>&nbsp;\n",
        "  </td></tr>\n",
        "</table>\n"
      ],
      "metadata": {
        "id": "5zdUig0Uzvq_"
      }
    },
    {
      "cell_type": "markdown",
      "source": [
        "Daming ebas so how to load ghorl?\n",
        "\n",
        "Ganito mhie kopyahin mo nalang:"
      ],
      "metadata": {
        "id": "8XqoHVrKYU0p"
      }
    },
    {
      "cell_type": "code",
      "source": [
        "fashion_mnist = tf.keras.datasets.fashion_mnist #standard na 'to sis di ko na iexplain ha?\n",
        "(train_images, train_labels), (test_images, test_labels) = fashion_mnist.load_data() #ayan sis so idivide natin siya into training and testing.\n",
        "# Nakadivide na actually yung fashion_mnist na dataset, need lang natin iextract yung training and testing.\n",
        "# so yung train_images yan yung....images...omg shocking!\n",
        "# tapos yung train_labels yan yung category per image beh so para siyang [0,3,2,5,1,6,3,8,...]. Yung unang picture ay category 0, second pic category 3, etc."
      ],
      "metadata": {
        "id": "_-jCnsp0UyMv"
      },
      "execution_count": null,
      "outputs": []
    },
    {
      "cell_type": "markdown",
      "source": [
        "Ayaw mo maniwala na 60,000 yung training tapos 10,000 yung testing. Ito check natin beh:"
      ],
      "metadata": {
        "id": "WEVXLToZbGFc"
      }
    },
    {
      "cell_type": "code",
      "source": [
        "print('Shape of training images = ',train_images.shape)\n",
        "print('Length of training labels = ',len(train_labels))\n",
        "print('Shape of testing images = ',test_images.shape)\n",
        "print('Length of testing labels = ',len(test_labels))"
      ],
      "metadata": {
        "id": "vMfFLK4TbEQR"
      },
      "execution_count": null,
      "outputs": []
    },
    {
      "cell_type": "markdown",
      "source": [
        "So ayun keri na sis may dataset na tayo. Bale eto pala yung 10 categories sis. Lagyan na natin ng name.\n",
        "\n",
        "So category/label 0 is `T-shirt/top`, category/label 1 is `Trouser`...*trouser?? pants lang yan teh* then category/label 2  is `Pullover` then whatever go read the rest sis..."
      ],
      "metadata": {
        "id": "daVQsJIRZ2AQ"
      }
    },
    {
      "cell_type": "code",
      "source": [
        "class_names = ['T-shirt/top', 'Trouser', 'Pullover', 'Dress', 'Coat',\n",
        "               'Sandal', 'Shirt', 'Sneaker', 'Bag', 'Ankle boot']\n",
        "#gagamitin natin 'to later sis. Basta i run mo na muna"
      ],
      "metadata": {
        "id": "tFHlpTwDYxl2"
      },
      "execution_count": null,
      "outputs": []
    },
    {
      "cell_type": "markdown",
      "source": [
        "Syempre VIP tayo so bet na bet natin pictures. Kaya tara na to the young and beautiful you!"
      ],
      "metadata": {
        "id": "0gFQvxjGbqrl"
      }
    },
    {
      "cell_type": "code",
      "source": [
        "plt.figure()\n",
        "plt.imshow(train_images[0]) #palitan mo lang yang \"0\" if di mo bet yung pic\n",
        "plt.show()"
      ],
      "metadata": {
        "colab": {
          "base_uri": "https://localhost:8080/",
          "height": 208
        },
        "id": "6fcrR6nDa6lA",
        "outputId": "dca4b43f-c93e-4701-be68-d473142af95a"
      },
      "execution_count": null,
      "outputs": [
        {
          "output_type": "error",
          "ename": "NameError",
          "evalue": "name 'plt' is not defined",
          "traceback": [
            "\u001b[0;31m---------------------------------------------------------------------------\u001b[0m",
            "\u001b[0;31mNameError\u001b[0m                                 Traceback (most recent call last)",
            "\u001b[0;32m<ipython-input-3-f26803f2aa4f>\u001b[0m in \u001b[0;36m<cell line: 1>\u001b[0;34m()\u001b[0m\n\u001b[0;32m----> 1\u001b[0;31m \u001b[0mplt\u001b[0m\u001b[0;34m.\u001b[0m\u001b[0mfigure\u001b[0m\u001b[0;34m(\u001b[0m\u001b[0;34m)\u001b[0m\u001b[0;34m\u001b[0m\u001b[0;34m\u001b[0m\u001b[0m\n\u001b[0m\u001b[1;32m      2\u001b[0m \u001b[0mplt\u001b[0m\u001b[0;34m.\u001b[0m\u001b[0mimshow\u001b[0m\u001b[0;34m(\u001b[0m\u001b[0mtrain_images\u001b[0m\u001b[0;34m[\u001b[0m\u001b[0;36m0\u001b[0m\u001b[0;34m]\u001b[0m\u001b[0;34m)\u001b[0m \u001b[0;31m#palitan mo lang yang \"0\" if di mo bet yung pic\u001b[0m\u001b[0;34m\u001b[0m\u001b[0;34m\u001b[0m\u001b[0m\n\u001b[1;32m      3\u001b[0m \u001b[0mplt\u001b[0m\u001b[0;34m.\u001b[0m\u001b[0mshow\u001b[0m\u001b[0;34m(\u001b[0m\u001b[0;34m)\u001b[0m\u001b[0;34m\u001b[0m\u001b[0;34m\u001b[0m\u001b[0m\n",
            "\u001b[0;31mNameError\u001b[0m: name 'plt' is not defined"
          ]
        }
      ]
    },
    {
      "cell_type": "markdown",
      "source": [
        "Isang pic langggg??? Sige damihan natin:"
      ],
      "metadata": {
        "id": "8nZCZo2zejYT"
      }
    },
    {
      "cell_type": "code",
      "source": [
        "plt.figure(figsize=(10,10))\n",
        "for i in range(25):\n",
        "    plt.subplot(5,5,i+1)\n",
        "    plt.xticks([])\n",
        "    plt.yticks([])\n",
        "    plt.grid(False)\n",
        "    plt.imshow(train_images[i], cmap=plt.cm.binary)\n",
        "    plt.xlabel(class_names[train_labels[i]])\n",
        "plt.show()"
      ],
      "metadata": {
        "id": "MLPoU_YrdTi2"
      },
      "execution_count": null,
      "outputs": []
    },
    {
      "cell_type": "markdown",
      "source": [
        "Ayon last but not the least bago tayo magtrain ng mowwwdel. Ipre-process muna natin. Actually keri naman na yung images, isang pre-processing lang need natin gawin and that is to make the pixel values range from 0 to 1.\n",
        "\n",
        "Originally, 0 to 255 kasi yung dataset mhie.\n",
        "\n",
        "So if you will ask me kimiii, bakit need gawing 0 to 1, bat hindi nalang 0 to 255. Well one reason is if magpeperform ka ng operation sa malaking value, say 255, ay mhieee lalaki at lalaki yung value mo mhie baka di kayanin ng computational prowess mo mhie baka di magconverge during training yung model mhie. Anyway, actually sobrang daming reason google mo nalangsss.\n",
        "\n",
        "Ay wait so ayun eto na talaga. Ito na yung pre-processing:"
      ],
      "metadata": {
        "id": "KipYbPKkeuZK"
      }
    },
    {
      "cell_type": "code",
      "source": [
        "train_images = train_images / 255.0\n",
        "test_images = test_images / 255.0\n",
        "#ay pak yan na yun? yes mhie bet mo ba mas mahirap na code?"
      ],
      "metadata": {
        "id": "-Sf2xwWbgNWC"
      },
      "execution_count": null,
      "outputs": []
    },
    {
      "cell_type": "markdown",
      "source": [
        "# **STEP 2: BUILDING THE MOWDEL**\n",
        "\n",
        "Omg dis is eat! dis is really really is it is it!\n",
        "\n",
        "So yung gagamitin natin na mowdel is yung nasa screen! Luningning pasok!\n",
        "\n",
        "So here (wow english ulit) we will use `tf.keras.Sequential`. From the name \"sequential\", ifofollow niya yung sequence ng codes mo.\n",
        "\n",
        "For example, first layer is a convolutional layer with 32 filters and kernel size of 3 by 3 with relu activation function. In code this will translate us:\n",
        "\n",
        "`tf.keras.layers.Conv2D(32, (3, 3), activation='relu', input_shape=(28, 28, 1)),`\n",
        "\n",
        "Then the next layer is a Max Pooling layer with kernel size 2 by 2. Since sequential siya, edi yung next line should be max pooling:\n",
        "\n",
        "`tf.keras.layers.MaxPooling2D((2, 2)),`\n",
        "\n",
        "And so on and so forth. So ayon yun na yun sis building blocks lang talaga siya. Dali lang no? Syempre kasi di na natin hinard code yung convolution and maxpooling layer huehue :D\n",
        "\n",
        "\n",
        "Syempre workshop 'to so need natin machallengeee emee so yuh FILL IN THE BLANKS MGA SIS!!! WERK WERK WERK!"
      ],
      "metadata": {
        "id": "b7UqMSZTh8lb"
      }
    },
    {
      "cell_type": "code",
      "source": [
        "model = tf.keras.Sequential([\n",
        "    tf.keras.layers.Conv2D(32, (3, 3), activation='relu', input_shape=(28, 28, 1)),\n",
        "    tf.keras.layers.MaxPooling2D((2, 2)),\n",
        "    tf.keras.layers.Conv2D(64, (3, 3), activation='relu'),\n",
        "    # put your code here#\n",
        "    tf.keras.layers.Flatten(), # i2 na yung 6272 nodes beh. Oh bakit 6272 beh? compute mo nga check natin angas mo kimi\n",
        "    tf.keras.layers.Dense(128, activation='relu'),\n",
        "    tf.keras.layers.Dense(10)\n",
        "])\n",
        "\n",
        "model.summary()"
      ],
      "metadata": {
        "id": "rrlG61zFh5BB"
      },
      "execution_count": null,
      "outputs": []
    },
    {
      "cell_type": "markdown",
      "source": [
        "Did you get the same result?\n",
        "\n",
        "No? halla bakit?\n",
        "\n",
        "Kimi syempre kulang yung code. Akshuliiii, ieexplain ko yan so makinig kayo charrr"
      ],
      "metadata": {
        "id": "QWs9vxUyvhYn"
      }
    },
    {
      "cell_type": "markdown",
      "source": [
        "# **STEP 3: TRAINING THE MOWDEL**\n",
        "\n",
        "recap lang ganern:\n",
        "\n",
        "* [*Optimizer*](https://www.tensorflow.org/api_docs/python/tf/keras/optimizers) —This is how the model is updated based on the data it sees and its loss function.\n",
        "* [*Loss function*](https://www.tensorflow.org/api_docs/python/tf/keras/losses) —This measures how accurate the model is during training. You want to minimize this function to \"steer\" the model in the right direction.\n",
        "* [*Metrics*](https://www.tensorflow.org/api_docs/python/tf/keras/metrics) —Used to monitor the training and testing steps. The following example uses *accuracy*, the fraction of the images that are correctly classified."
      ],
      "metadata": {
        "id": "5dSJ0tCQwzd_"
      }
    },
    {
      "cell_type": "code",
      "source": [
        "#So first step ay icompile muna natin? What is compile? YES!\n",
        "model.compile(optimizer='adam',\n",
        "              loss=tf.keras.losses.SparseCategoricalCrossentropy(from_logits=True),\n",
        "              metrics=['accuracy'])"
      ],
      "metadata": {
        "id": "3-Hp6MuFw_pU"
      },
      "execution_count": null,
      "outputs": []
    },
    {
      "cell_type": "code",
      "source": [
        "# i2 na b3h. Mag train na tayo para happy. 5 epochs lang baka di tayo matapos ihhh\n",
        "model.fit(train_images, train_labels, epochs=5, validation_split=0.2) #dagdag lang tayong validation beh"
      ],
      "metadata": {
        "id": "fGCY5WFdxKtZ"
      },
      "execution_count": null,
      "outputs": []
    },
    {
      "cell_type": "markdown",
      "source": [
        "# **STEP 4: TESTING THE MOWDEL ON NBS**\n",
        "\n",
        "Ayern keri na yung model. So itest na natin siya mhie sa never-before-seen images natin. Yung test_images mhieeee!"
      ],
      "metadata": {
        "id": "Yj1xmAiD0Of1"
      }
    },
    {
      "cell_type": "code",
      "source": [
        "test_loss, test_acc = model.evaluate(test_images,  test_labels, verbose=2)\n",
        "print('\\nTest accuracy:', test_acc)"
      ],
      "metadata": {
        "id": "8BncAOpX0PHv"
      },
      "execution_count": null,
      "outputs": []
    },
    {
      "cell_type": "markdown",
      "source": [
        "Okay so ngayon naman let's visualize para may pictures para happy!\n",
        "\n",
        "So akshulli, yung nilalabas ng mowdel natin ay parang ganito ay linear outputs in logits. Ha? Logits? ano yun?\n",
        "\n",
        "Sabi ni ChatGPT \"In the context of machine learning and neural networks, the term \"logits\" refers to the raw, unnormalized predictions generated by a model. Logits are the values that precede the application of the softmax activation function in a classification task.\" yarrnnnnn!\n",
        "\n",
        "\n",
        "so ayun beh apply daw tayo softmax para maconvert and logits into probabilities. So basicallyyyyy...it will transform logits into a probability distribution, para yung values ay between 0 and 1 tapos sum is 1.\n",
        "\n",
        "Anyway ito yun:"
      ],
      "metadata": {
        "id": "6lEWZGu80wxc"
      }
    },
    {
      "cell_type": "code",
      "source": [
        "probability_model = tf.keras.Sequential([model, tf.keras.layers.Softmax()])\n",
        "\n",
        "#tapos itest na natin sa lahat\n",
        "predictions = probability_model.predict(test_images) #this will contain all the predictions of the test_images wow english!"
      ],
      "metadata": {
        "id": "fBclHePT01-B"
      },
      "execution_count": null,
      "outputs": []
    },
    {
      "cell_type": "code",
      "source": [
        "#Check natin mhie yung unang prediction:\n",
        "print(\"Prediction na nakakalito:\", predictions[0])\n",
        "#Halla ano yang values na yan? yan yung probabilies per label mhie. So para malaman yung final label, gamit tayo argmax para hanapin max probability\"\n",
        "print(\"i2 final label mhie:\",np.argmax(predictions[0]))"
      ],
      "metadata": {
        "id": "18mwKRHZ2Grj"
      },
      "execution_count": null,
      "outputs": []
    },
    {
      "cell_type": "markdown",
      "source": [
        "Ayan confident yung model mhie na class 9 daw siya which is \"ankle boot\"\n",
        "Naniniwala ka ba? syempre di pa natin alam kasi di pa natin nakikita yung picture mhieee.\n",
        "\n",
        "Pero check natin mhie ano ba yung true label niya mhie"
      ],
      "metadata": {
        "id": "BWV2M3dj2_hm"
      }
    },
    {
      "cell_type": "code",
      "source": [
        "print(\"true label:\",test_labels[0])"
      ],
      "metadata": {
        "id": "arxS8A9n2QL5"
      },
      "execution_count": null,
      "outputs": []
    },
    {
      "cell_type": "markdown",
      "source": [
        "TUMPAK GANERN!!!!\n",
        "\n",
        "Anyway, i-visualize na natin mhie!!!!\n",
        "\n",
        "define muna tayo ng function:"
      ],
      "metadata": {
        "id": "Lc7hX8zs3b4G"
      }
    },
    {
      "cell_type": "code",
      "source": [
        "def plot_image(i, predictions_array, true_label, img):\n",
        "  true_label, img = true_label[i], img[i]\n",
        "  plt.grid(False)\n",
        "  plt.xticks([])\n",
        "  plt.yticks([])\n",
        "\n",
        "  plt.imshow(img, cmap=plt.cm.binary)\n",
        "\n",
        "  predicted_label = np.argmax(predictions_array)\n",
        "  if predicted_label == true_label:\n",
        "    color = 'blue'\n",
        "  else:\n",
        "    color = 'red'\n",
        "\n",
        "  plt.xlabel(\"{} {:2.0f}% ({})\".format(class_names[predicted_label],\n",
        "                                100*np.max(predictions_array),\n",
        "                                class_names[true_label]),\n",
        "                                color=color)\n",
        "\n",
        "def plot_value_array(i, predictions_array, true_label):\n",
        "  true_label = true_label[i]\n",
        "  plt.grid(False)\n",
        "  plt.xticks(range(10))\n",
        "  plt.yticks([])\n",
        "  thisplot = plt.bar(range(10), predictions_array, color=\"#777777\")\n",
        "  plt.ylim([0, 1])\n",
        "  predicted_label = np.argmax(predictions_array)\n",
        "\n",
        "  thisplot[predicted_label].set_color('red')\n",
        "  thisplot[true_label].set_color('blue')"
      ],
      "metadata": {
        "id": "PTRu4JMB3bQB"
      },
      "execution_count": null,
      "outputs": []
    },
    {
      "cell_type": "markdown",
      "source": [
        "Check na natin ankle boot mhieee"
      ],
      "metadata": {
        "id": "1GyZd1VZ30Y2"
      }
    },
    {
      "cell_type": "code",
      "source": [
        "i = 0 #palitan mo itu if bet mo other picture mhie\n",
        "plt.figure(figsize=(6,3))\n",
        "plt.subplot(1,2,1)\n",
        "plot_image(i, predictions[i], test_labels, test_images)\n",
        "plt.subplot(1,2,2)\n",
        "plot_value_array(i, predictions[i],  test_labels)\n",
        "plt.show()"
      ],
      "metadata": {
        "colab": {
          "base_uri": "https://localhost:8080/",
          "height": 242
        },
        "id": "Yq80GEZ83u88",
        "outputId": "d8dee59b-0927-4efc-8182-6d7675845784"
      },
      "execution_count": 5,
      "outputs": [
        {
          "output_type": "error",
          "ename": "NameError",
          "evalue": "name 'plt' is not defined",
          "traceback": [
            "\u001b[0;31m---------------------------------------------------------------------------\u001b[0m",
            "\u001b[0;31mNameError\u001b[0m                                 Traceback (most recent call last)",
            "\u001b[0;32m<ipython-input-5-299a88df69ad>\u001b[0m in \u001b[0;36m<cell line: 2>\u001b[0;34m()\u001b[0m\n\u001b[1;32m      1\u001b[0m \u001b[0mi\u001b[0m \u001b[0;34m=\u001b[0m \u001b[0;36m10\u001b[0m \u001b[0;31m#palitan mo itu if bet mo other picture mhie\u001b[0m\u001b[0;34m\u001b[0m\u001b[0;34m\u001b[0m\u001b[0m\n\u001b[0;32m----> 2\u001b[0;31m \u001b[0mplt\u001b[0m\u001b[0;34m.\u001b[0m\u001b[0mfigure\u001b[0m\u001b[0;34m(\u001b[0m\u001b[0mfigsize\u001b[0m\u001b[0;34m=\u001b[0m\u001b[0;34m(\u001b[0m\u001b[0;36m6\u001b[0m\u001b[0;34m,\u001b[0m\u001b[0;36m3\u001b[0m\u001b[0;34m)\u001b[0m\u001b[0;34m)\u001b[0m\u001b[0;34m\u001b[0m\u001b[0;34m\u001b[0m\u001b[0m\n\u001b[0m\u001b[1;32m      3\u001b[0m \u001b[0mplt\u001b[0m\u001b[0;34m.\u001b[0m\u001b[0msubplot\u001b[0m\u001b[0;34m(\u001b[0m\u001b[0;36m1\u001b[0m\u001b[0;34m,\u001b[0m\u001b[0;36m2\u001b[0m\u001b[0;34m,\u001b[0m\u001b[0;36m1\u001b[0m\u001b[0;34m)\u001b[0m\u001b[0;34m\u001b[0m\u001b[0;34m\u001b[0m\u001b[0m\n\u001b[1;32m      4\u001b[0m \u001b[0mplot_image\u001b[0m\u001b[0;34m(\u001b[0m\u001b[0mi\u001b[0m\u001b[0;34m,\u001b[0m \u001b[0mpredictions\u001b[0m\u001b[0;34m[\u001b[0m\u001b[0mi\u001b[0m\u001b[0;34m]\u001b[0m\u001b[0;34m,\u001b[0m \u001b[0mtest_labels\u001b[0m\u001b[0;34m,\u001b[0m \u001b[0mtest_images\u001b[0m\u001b[0;34m)\u001b[0m\u001b[0;34m\u001b[0m\u001b[0;34m\u001b[0m\u001b[0m\n\u001b[1;32m      5\u001b[0m \u001b[0mplt\u001b[0m\u001b[0;34m.\u001b[0m\u001b[0msubplot\u001b[0m\u001b[0;34m(\u001b[0m\u001b[0;36m1\u001b[0m\u001b[0;34m,\u001b[0m\u001b[0;36m2\u001b[0m\u001b[0;34m,\u001b[0m\u001b[0;36m2\u001b[0m\u001b[0;34m)\u001b[0m\u001b[0;34m\u001b[0m\u001b[0;34m\u001b[0m\u001b[0m\n",
            "\u001b[0;31mNameError\u001b[0m: name 'plt' is not defined"
          ]
        }
      ]
    },
    {
      "cell_type": "markdown",
      "source": [
        "Keriiiii!!! Sige more picsss"
      ],
      "metadata": {
        "id": "K8ZpLutC35mu"
      }
    },
    {
      "cell_type": "code",
      "source": [
        "# Plot the first X test images, their predicted labels, and the true labels.\n",
        "# Color correct predictions in blue and incorrect predictions in red.\n",
        "num_rows = 5\n",
        "num_cols = 3\n",
        "num_images = num_rows*num_cols\n",
        "plt.figure(figsize=(2*2*num_cols, 2*num_rows))\n",
        "for i in range(num_images):\n",
        "  plt.subplot(num_rows, 2*num_cols, 2*i+1)\n",
        "  plot_image(i, predictions[i], test_labels, test_images)\n",
        "  plt.subplot(num_rows, 2*num_cols, 2*i+2)\n",
        "  plot_value_array(i, predictions[i], test_labels)\n",
        "plt.tight_layout()\n",
        "plt.show()"
      ],
      "metadata": {
        "id": "brVAoeGb4N78"
      },
      "execution_count": null,
      "outputs": []
    }
  ]
}