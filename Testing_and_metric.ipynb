{
  "nbformat": 4,
  "nbformat_minor": 0,
  "metadata": {
    "colab": {
      "provenance": [],
      "include_colab_link": true
    },
    "kernelspec": {
      "name": "python3",
      "display_name": "Python 3"
    },
    "language_info": {
      "name": "python"
    },
    "accelerator": "GPU",
    "gpuClass": "standard"
  },
  "cells": [
    {
      "cell_type": "markdown",
      "metadata": {
        "id": "view-in-github",
        "colab_type": "text"
      },
      "source": [
        "<a href=\"https://colab.research.google.com/github/mgnarag/machine-learning/blob/main/Testing_and_metric.ipynb\" target=\"_parent\"><img src=\"https://colab.research.google.com/assets/colab-badge.svg\" alt=\"Open In Colab\"/></a>"
      ]
    },
    {
      "cell_type": "code",
      "execution_count": 1,
      "metadata": {
        "id": "gXM5CNP5BaYU",
        "outputId": "11681884-4f3e-4718-975f-3e3cd667af45",
        "colab": {
          "base_uri": "https://localhost:8080/"
        }
      },
      "outputs": [
        {
          "output_type": "stream",
          "name": "stdout",
          "text": [
            "Mounted at /content/drive\n"
          ]
        }
      ],
      "source": [
        "from google.colab import drive\n",
        "drive.mount(\"/content/drive\")"
      ]
    },
    {
      "cell_type": "code",
      "source": [
        "!ls drive/My\\ Drive\n",
        "file_path = \"/content/drive/My Drive/CS284/Project/\""
      ],
      "metadata": {
        "id": "xiAgOwvmBcjr"
      },
      "execution_count": null,
      "outputs": []
    },
    {
      "cell_type": "code",
      "source": [
        "import time\n",
        "import pandas as pd\n",
        "\n",
        "\n",
        "import matplotlib.pyplot as plt\n",
        "import numpy as np\n",
        "import tensorflow as tf\n",
        "\n",
        "\n",
        "from PIL import Image, ImageOps\n",
        "import os\n",
        "import numpy as np\n",
        "\n",
        "import tensorflow as tf\n",
        "from tensorflow.keras.preprocessing.image import ImageDataGenerator\n",
        "import matplotlib.pyplot as plt\n",
        "from scipy.ndimage import zoom\n",
        "\n",
        "import cv2"
      ],
      "metadata": {
        "id": "MjpPVdDyBeby"
      },
      "execution_count": null,
      "outputs": []
    },
    {
      "cell_type": "code",
      "source": [
        "from tensorflow import keras\n",
        "from PIL import Image, ImageOps\n",
        "import numpy as np\n",
        "import time\n",
        "\n",
        "def crop(im,n_size):\n",
        "    width, height = im.size\n",
        "    data = []\n",
        "    for j in range(0,int(height/n_size)):\n",
        "        for i in range(0,int(width/n_size)):\n",
        "            im1 = im.crop((0 + (n_size*i), 0 + (n_size*j), n_size + (n_size*i), n_size + (n_size*j)))\n",
        "            im1 = np.array(im1)\n",
        "            im1 = im1.astype(np.float32)\n",
        "            im1 = im1/255\n",
        "            data.append(im1)\n",
        "    return data\n",
        "\n",
        "\n",
        "filename = str(\"GT_input.tiff\")\n",
        "test = Image.open(file_path+ \"Testing nbs/\" + filename)\n",
        "test = test.convert('RGB')\n",
        "w_dirty, h_dirty = test.size\n",
        "\n",
        "\n",
        "architecture = ['unet_maxpooling_']\n",
        "size = ['32_', '64_']\n",
        "section = ['whole','portion']\n",
        "\n",
        "models = []\n",
        "for m in range(0,1):\n",
        "  for s in range(0,2):\n",
        "    for c in range(0,2):\n",
        "      models.append(str(architecture[m]+size[s]+section[c]))\n",
        "\n",
        "METRIC = []\n",
        "\n",
        "\n",
        "for mod in range(0,4):\n",
        "  if mod in [0, 1, 4, 5]:\n",
        "    n_size = 32\n",
        "    print(n_size)\n",
        "  if mod in [2, 3, 6, 7]:\n",
        "    n_size = 64\n",
        "    print(n_size)\n",
        "  start = time.time()\n",
        "  model = keras.models.load_model(file_path + models[mod])\n",
        "  print(model)\n",
        "  xx = int(w_dirty/n_size)\n",
        "  final=[]\n",
        "\n",
        "  for portion in range(0,xx):\n",
        "      im1 = test.crop((n_size*portion, 0, (n_size*portion) + n_size, h_dirty))\n",
        "      w1, h1 = im1.size\n",
        "      w = int(w1/n_size)\n",
        "      h = int(h1/n_size)\n",
        "\n",
        "      neverbeforeseen = np.array(crop(im1,n_size))\n",
        "      #encoded_imgs = autoencoder.encoder(neverbeforeseen).numpy()\n",
        "      decoded_imgs = model.predict(neverbeforeseen)\n",
        "\n",
        "      col = np.vstack((decoded_imgs[0],decoded_imgs[1]))\n",
        "      for i in range(2,h):\n",
        "          col = np.vstack((col,decoded_imgs[i]))\n",
        "\n",
        "      #y = np.where(col > 0.5,1,0) #round the values\n",
        "      y= col\n",
        "      y = (y * 255).astype('uint8')\n",
        "      if portion == 0:\n",
        "          final = y\n",
        "      if portion > 0:\n",
        "          final = np.hstack((final,y))\n",
        "\n",
        "  final = np.squeeze(final)\n",
        "  reconstructed = Image.fromarray(final)\n",
        "  reconstructed.save(file_path + \"Testing nbs/\"+str(models[mod])+\"_cleaned.png\")\n",
        "\n",
        "  end = time.time()\n",
        "  print(\"The time of execution of above program is :\",\n",
        "        (end-start), \"seconds\")\n",
        "\n"
      ],
      "metadata": {
        "id": "gXfXgHST9lRP",
        "outputId": "6c28eac8-317e-48b9-b8bb-a447faebcdcb",
        "colab": {
          "base_uri": "https://localhost:8080/"
        }
      },
      "execution_count": 15,
      "outputs": [
        {
          "output_type": "stream",
          "name": "stdout",
          "text": [
            "32\n",
            "<keras.src.engine.functional.Functional object at 0x7f6170490130>\n",
            "2/2 [==============================] - 0s 6ms/step\n",
            "2/2 [==============================] - 0s 9ms/step\n",
            "2/2 [==============================] - 0s 6ms/step\n",
            "2/2 [==============================] - 0s 5ms/step\n",
            "2/2 [==============================] - 0s 5ms/step\n",
            "2/2 [==============================] - 0s 6ms/step\n",
            "2/2 [==============================] - 0s 5ms/step\n",
            "2/2 [==============================] - 0s 6ms/step\n",
            "2/2 [==============================] - 0s 6ms/step\n",
            "2/2 [==============================] - 0s 5ms/step\n",
            "2/2 [==============================] - 0s 7ms/step\n",
            "2/2 [==============================] - 0s 6ms/step\n",
            "2/2 [==============================] - 0s 6ms/step\n",
            "2/2 [==============================] - 0s 8ms/step\n",
            "2/2 [==============================] - 0s 9ms/step\n",
            "2/2 [==============================] - 0s 6ms/step\n",
            "2/2 [==============================] - 0s 6ms/step\n",
            "2/2 [==============================] - 0s 5ms/step\n",
            "2/2 [==============================] - 0s 7ms/step\n",
            "2/2 [==============================] - 0s 7ms/step\n",
            "2/2 [==============================] - 0s 6ms/step\n",
            "2/2 [==============================] - 0s 9ms/step\n",
            "2/2 [==============================] - 0s 9ms/step\n",
            "2/2 [==============================] - 0s 6ms/step\n",
            "2/2 [==============================] - 0s 5ms/step\n",
            "2/2 [==============================] - 0s 6ms/step\n",
            "2/2 [==============================] - 0s 6ms/step\n",
            "2/2 [==============================] - 0s 5ms/step\n",
            "2/2 [==============================] - 0s 7ms/step\n",
            "2/2 [==============================] - 0s 6ms/step\n",
            "2/2 [==============================] - 0s 6ms/step\n",
            "2/2 [==============================] - 0s 6ms/step\n",
            "2/2 [==============================] - 0s 6ms/step\n",
            "2/2 [==============================] - 0s 6ms/step\n",
            "2/2 [==============================] - 0s 9ms/step\n",
            "2/2 [==============================] - 0s 6ms/step\n",
            "2/2 [==============================] - 0s 5ms/step\n",
            "2/2 [==============================] - 0s 6ms/step\n",
            "2/2 [==============================] - 0s 9ms/step\n",
            "2/2 [==============================] - 0s 8ms/step\n",
            "2/2 [==============================] - 0s 6ms/step\n",
            "2/2 [==============================] - 0s 6ms/step\n",
            "2/2 [==============================] - 0s 7ms/step\n",
            "2/2 [==============================] - 0s 6ms/step\n",
            "2/2 [==============================] - 0s 7ms/step\n",
            "2/2 [==============================] - 0s 7ms/step\n",
            "2/2 [==============================] - 0s 7ms/step\n",
            "2/2 [==============================] - 0s 7ms/step\n",
            "2/2 [==============================] - 0s 7ms/step\n",
            "2/2 [==============================] - 0s 6ms/step\n",
            "The time of execution of above program is : 6.92466139793396 seconds\n",
            "32\n",
            "<keras.src.engine.functional.Functional object at 0x7f61083d10c0>\n",
            "2/2 [==============================] - 0s 7ms/step\n",
            "2/2 [==============================] - 0s 6ms/step\n",
            "2/2 [==============================] - 0s 6ms/step\n",
            "2/2 [==============================] - 0s 7ms/step\n",
            "2/2 [==============================] - 0s 7ms/step\n",
            "2/2 [==============================] - 0s 6ms/step\n",
            "2/2 [==============================] - 0s 8ms/step\n",
            "2/2 [==============================] - 0s 6ms/step\n",
            "2/2 [==============================] - 0s 7ms/step\n",
            "2/2 [==============================] - 0s 6ms/step\n",
            "2/2 [==============================] - 0s 6ms/step\n",
            "2/2 [==============================] - 0s 6ms/step\n",
            "2/2 [==============================] - 0s 6ms/step\n",
            "2/2 [==============================] - 0s 6ms/step\n",
            "2/2 [==============================] - 0s 6ms/step\n",
            "2/2 [==============================] - 0s 6ms/step\n",
            "2/2 [==============================] - 0s 8ms/step\n",
            "2/2 [==============================] - 0s 8ms/step\n",
            "2/2 [==============================] - 0s 7ms/step\n",
            "2/2 [==============================] - 0s 6ms/step\n",
            "2/2 [==============================] - 0s 6ms/step\n",
            "2/2 [==============================] - 0s 6ms/step\n",
            "2/2 [==============================] - 0s 6ms/step\n",
            "2/2 [==============================] - 0s 6ms/step\n",
            "2/2 [==============================] - 0s 6ms/step\n",
            "2/2 [==============================] - 0s 6ms/step\n",
            "2/2 [==============================] - 0s 6ms/step\n",
            "2/2 [==============================] - 0s 6ms/step\n",
            "2/2 [==============================] - 0s 6ms/step\n",
            "2/2 [==============================] - 0s 7ms/step\n",
            "2/2 [==============================] - 0s 6ms/step\n",
            "2/2 [==============================] - 0s 7ms/step\n",
            "2/2 [==============================] - 0s 6ms/step\n",
            "2/2 [==============================] - 0s 6ms/step\n",
            "2/2 [==============================] - 0s 6ms/step\n",
            "2/2 [==============================] - 0s 6ms/step\n",
            "2/2 [==============================] - 0s 7ms/step\n",
            "2/2 [==============================] - 0s 7ms/step\n",
            "2/2 [==============================] - 0s 6ms/step\n",
            "2/2 [==============================] - 0s 6ms/step\n",
            "2/2 [==============================] - 0s 6ms/step\n",
            "2/2 [==============================] - 0s 6ms/step\n",
            "2/2 [==============================] - 0s 7ms/step\n",
            "2/2 [==============================] - 0s 5ms/step\n",
            "2/2 [==============================] - 0s 6ms/step\n",
            "2/2 [==============================] - 0s 6ms/step\n",
            "2/2 [==============================] - 0s 6ms/step\n",
            "2/2 [==============================] - 0s 6ms/step\n",
            "2/2 [==============================] - 0s 6ms/step\n",
            "2/2 [==============================] - 0s 7ms/step\n",
            "The time of execution of above program is : 5.646198511123657 seconds\n",
            "64\n",
            "<keras.src.engine.functional.Functional object at 0x7f6108645870>\n",
            "1/1 [==============================] - 0s 125ms/step\n",
            "1/1 [==============================] - 0s 19ms/step\n",
            "1/1 [==============================] - 0s 20ms/step\n",
            "1/1 [==============================] - 0s 20ms/step\n",
            "1/1 [==============================] - 0s 18ms/step\n",
            "1/1 [==============================] - 0s 21ms/step\n",
            "1/1 [==============================] - 0s 19ms/step\n",
            "1/1 [==============================] - 0s 19ms/step\n",
            "1/1 [==============================] - 0s 19ms/step\n",
            "1/1 [==============================] - 0s 19ms/step\n",
            "1/1 [==============================] - 0s 22ms/step\n",
            "1/1 [==============================] - 0s 25ms/step\n",
            "1/1 [==============================] - 0s 45ms/step\n",
            "1/1 [==============================] - 0s 30ms/step\n",
            "1/1 [==============================] - 0s 29ms/step\n",
            "1/1 [==============================] - 0s 28ms/step\n",
            "1/1 [==============================] - 0s 28ms/step\n",
            "1/1 [==============================] - 0s 53ms/step\n",
            "1/1 [==============================] - 0s 34ms/step\n",
            "1/1 [==============================] - 0s 31ms/step\n",
            "1/1 [==============================] - 0s 28ms/step\n",
            "1/1 [==============================] - 0s 27ms/step\n",
            "1/1 [==============================] - 0s 26ms/step\n",
            "1/1 [==============================] - 0s 27ms/step\n",
            "1/1 [==============================] - 0s 28ms/step\n",
            "The time of execution of above program is : 5.6520750522613525 seconds\n",
            "64\n",
            "<keras.src.engine.functional.Functional object at 0x7f61705e2950>\n",
            "1/1 [==============================] - 0s 199ms/step\n",
            "1/1 [==============================] - 0s 20ms/step\n",
            "1/1 [==============================] - 0s 20ms/step\n",
            "1/1 [==============================] - 0s 21ms/step\n",
            "1/1 [==============================] - 0s 18ms/step\n",
            "1/1 [==============================] - 0s 19ms/step\n",
            "1/1 [==============================] - 0s 18ms/step\n",
            "1/1 [==============================] - 0s 19ms/step\n",
            "1/1 [==============================] - 0s 19ms/step\n",
            "1/1 [==============================] - 0s 18ms/step\n",
            "1/1 [==============================] - 0s 21ms/step\n",
            "1/1 [==============================] - 0s 21ms/step\n",
            "1/1 [==============================] - 0s 20ms/step\n",
            "1/1 [==============================] - 0s 19ms/step\n",
            "1/1 [==============================] - 0s 19ms/step\n",
            "1/1 [==============================] - 0s 20ms/step\n",
            "1/1 [==============================] - 0s 18ms/step\n",
            "1/1 [==============================] - 0s 19ms/step\n",
            "1/1 [==============================] - 0s 20ms/step\n",
            "1/1 [==============================] - 0s 19ms/step\n",
            "1/1 [==============================] - 0s 19ms/step\n",
            "1/1 [==============================] - 0s 19ms/step\n",
            "1/1 [==============================] - 0s 20ms/step\n",
            "1/1 [==============================] - 0s 24ms/step\n",
            "1/1 [==============================] - 0s 19ms/step\n",
            "The time of execution of above program is : 5.169931888580322 seconds\n"
          ]
        }
      ]
    },
    {
      "cell_type": "code",
      "source": [
        "import cv2\n",
        "from skimage.metrics import structural_similarity as ssim\n",
        "import numpy as np\n",
        "import pandas as pd\n",
        "\n",
        "def calculate_ssim(img1, img2):\n",
        "    # Calculate SSIM for each channel\n",
        "    ssim_r = ssim(img1[:, :, 0], img2[:, :, 0],win_size=65)\n",
        "    ssim_g = ssim(img1[:, :, 1], img2[:, :, 1],win_size=65)\n",
        "    ssim_b = ssim(img1[:, :, 2], img2[:, :, 2],win_size=65)\n",
        "\n",
        "    # Take the average of SSIM values for all channels\n",
        "    ssim_index = (ssim_r + ssim_g + ssim_b) / 3.0\n",
        "\n",
        "    return ssim_index\n",
        "\n",
        "def calculate_psnr(img1, img2):\n",
        "    # Calculate PSNR for each channel\n",
        "    psnr_r = cv2.PSNR(img1[:, :, 0], img2[:, :, 0])\n",
        "    psnr_g = cv2.PSNR(img1[:, :, 1], img2[:, :, 1])\n",
        "    psnr_b = cv2.PSNR(img1[:, :, 2], img2[:, :, 2])\n",
        "\n",
        "    # Take the average of PSNR values for all channels\n",
        "    psnr_value = (psnr_r + psnr_g + psnr_b) / 3.0\n",
        "\n",
        "    return psnr_value\n",
        "\n",
        "\n",
        "# Load your colored images\n",
        "image1 = cv2.imread(file_path+ \"Testing nbs/GT_output.tiff\")\n",
        "\n",
        "METRIC = []\n",
        "for mod in range(0,4):\n",
        "  image2 = cv2.imread(file_path + \"Testing nbs/\"+str(models[mod])+\"_cleaned.png\")\n",
        "\n",
        "\n",
        "\n",
        "  # Calculate PSNR\n",
        "  psnr = calculate_psnr(image1, image2)\n",
        "  print(psnr)\n",
        "\n",
        "  # Calculate SSIM\n",
        "  #ssim_ = calculate_ssim(image1, image2)\n",
        "  ssim_ = ssim(image1, image2, win_size=65,  multichannel=True)\n",
        "  print(ssim_)\n",
        "\n",
        "  METRIC.append([models[mod],psnr,ssim_])\n",
        "\n",
        "\n",
        "METRIC = pd.DataFrame(METRIC)\n",
        "headers = ['Model','PSNR','SSIM' ]\n",
        "METRIC.columns = headers\n",
        "METRIC.to_csv(file_path + 'Metrics.csv')\n",
        "#print(METRIC)"
      ],
      "metadata": {
        "id": "RnXrwpfeUvRq",
        "outputId": "4122e15d-2acc-49d3-ab09-2d109c627677",
        "colab": {
          "base_uri": "https://localhost:8080/"
        }
      },
      "execution_count": 17,
      "outputs": [
        {
          "output_type": "stream",
          "name": "stdout",
          "text": [
            "27.401128535414937\n"
          ]
        },
        {
          "output_type": "stream",
          "name": "stderr",
          "text": [
            "<ipython-input-17-49a962d24f77>:44: FutureWarning: `multichannel` is a deprecated argument name for `structural_similarity`. It will be removed in version 1.0. Please use `channel_axis` instead.\n",
            "  ssim_ = ssim(image1, image2, win_size=1025,  multichannel=True)\n"
          ]
        },
        {
          "output_type": "stream",
          "name": "stdout",
          "text": [
            "0.8999763691321401\n",
            "26.544276323700206\n",
            "0.8849103921697586\n",
            "27.008353023513326\n",
            "0.8928025682569468\n",
            "25.81418947863824\n",
            "0.8643650188570767\n"
          ]
        }
      ]
    },
    {
      "cell_type": "code",
      "source": [
        "ssim_ = ssim(image1, image2, win_size=1025,  multichannel=True)\n",
        "\n",
        "print(f'SSIM Index: {ssim_}')"
      ],
      "metadata": {
        "id": "Yvd06QANQsYU",
        "outputId": "fd82dae4-1db5-4400-8b31-e43163d47ee3",
        "colab": {
          "base_uri": "https://localhost:8080/"
        }
      },
      "execution_count": null,
      "outputs": [
        {
          "output_type": "stream",
          "name": "stderr",
          "text": [
            "<ipython-input-86-5d96e6a81854>:1: FutureWarning: `multichannel` is a deprecated argument name for `structural_similarity`. It will be removed in version 1.0. Please use `channel_axis` instead.\n",
            "  ssim_ = ssim(image1, image2, win_size=1025,  multichannel=True)\n"
          ]
        },
        {
          "output_type": "stream",
          "name": "stdout",
          "text": [
            "SSIM Index: 0.6717284780302376\n"
          ]
        }
      ]
    },
    {
      "cell_type": "code",
      "source": [
        "print(models)"
      ],
      "metadata": {
        "id": "xZTRba4ocROx",
        "outputId": "fea4fe4b-54f6-4b96-c53e-053d3c7f89a6",
        "colab": {
          "base_uri": "https://localhost:8080/"
        }
      },
      "execution_count": 18,
      "outputs": [
        {
          "output_type": "stream",
          "name": "stdout",
          "text": [
            "['unet_maxpooling_32_whole', 'unet_maxpooling_32_portion', 'unet_maxpooling_64_whole', 'unet_maxpooling_64_portion']\n"
          ]
        }
      ]
    },
    {
      "cell_type": "code",
      "source": [],
      "metadata": {
        "id": "H1rZNt90HSsf"
      },
      "execution_count": null,
      "outputs": []
    }
  ]
}